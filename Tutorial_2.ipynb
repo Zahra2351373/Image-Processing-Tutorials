{
  "nbformat": 4,
  "nbformat_minor": 0,
  "metadata": {
    "colab": {
      "name": "Tutorial 2.ipynb",
      "provenance": [],
      "authorship_tag": "ABX9TyO6XSVMlVzUTzz8X4ecGoZ2",
      "include_colab_link": true
    },
    "kernelspec": {
      "name": "python3",
      "display_name": "Python 3"
    }
  },
  "cells": [
    {
      "cell_type": "markdown",
      "metadata": {
        "id": "view-in-github",
        "colab_type": "text"
      },
      "source": [
        "<a href=\"https://colab.research.google.com/github/Zahra2351373/Image-Processing-Tutorials/blob/Master/Tutorial_2.ipynb\" target=\"_parent\"><img src=\"https://colab.research.google.com/assets/colab-badge.svg\" alt=\"Open In Colab\"/></a>"
      ]
    },
    {
      "cell_type": "code",
      "metadata": {
        "id": "84PVvCAWfb4K"
      },
      "source": [
        "import matplotlib.pyplot as plt\n",
        "import numpy as np\n",
        "import cv2\n",
        "from google.colab.patches import cv2_imshow\n",
        "import os\n",
        "print(cv2.__version__, cv2.__spec__)\n",
        "#print(cv2.getBuildInformation())"
      ],
      "execution_count": null,
      "outputs": []
    },
    {
      "cell_type": "code",
      "metadata": {
        "id": "chZuvUxgqH-W"
      },
      "source": [
        "from google.colab import drive\n",
        "drive.mount('/content/drive')"
      ],
      "execution_count": null,
      "outputs": []
    },
    {
      "cell_type": "code",
      "metadata": {
        "id": "Ry6cjO4WqQqH"
      },
      "source": [
        "# After executing the cell above, Drive\n",
        "# files will be present in \"/content/drive/My Drive\".\n",
        "#Second change your current folder to point working folder My Drive\n",
        "os.chdir(\"/content/drive/My Drive/\")\n",
        "os.listdir()"
      ],
      "execution_count": null,
      "outputs": []
    },
    {
      "cell_type": "code",
      "metadata": {
        "id": "CHFA3zNnqTOz"
      },
      "source": [
        "I = cv2.imread('./images/fruits.png')\n",
        "I = cv2.cvtColor(I, cv2.COLOR_BGR2RGB)\n",
        "#Image translation\n",
        "rows,cols, ch = I.shape\n",
        "tx = 100; ty = 50\n",
        "M = np.float32([[1,0,tx],[0,1,ty]])\n",
        "I_trans = cv2.warpAffine(I,M,(cols,rows))\n",
        "plt.subplot(121), plt.imshow(I), plt.axis('off')\n",
        "plt.subplot(122), plt.imshow(I_trans), plt.axis('off')\n",
        "plt.tight_layout(pad=1)\n",
        "plt.show()"
      ],
      "execution_count": null,
      "outputs": []
    },
    {
      "cell_type": "code",
      "metadata": {
        "id": "dFg8I2HqqYLu"
      },
      "source": [
        "#Image rotation\n",
        "rows,cols, ch = I.shape\n",
        "theta = 45\n",
        "M = cv2.getRotationMatrix2D((cols/2,rows/2),theta,1)\n",
        "I_rot = cv2.warpAffine(I,M,(cols,rows))\n",
        "plt.subplot(121), plt.imshow(I), plt.axis('off')\n",
        "plt.subplot(122), plt.imshow(I_rot), plt.axis('off')\n",
        "plt.tight_layout(pad=1)\n",
        "plt.show()"
      ],
      "execution_count": null,
      "outputs": []
    },
    {
      "cell_type": "code",
      "metadata": {
        "id": "LkHbevr1qeMY"
      },
      "source": [
        "#Image scaling\n",
        "rows,cols, ch = I.shape\n",
        "cx = .5; cy = .5\n",
        "M = np.float32([[cx,0,0],[0,cy,0]])\n",
        "I_scale = cv2.warpAffine(I,M,(cols,rows))\n",
        "plt.subplot(121), plt.imshow(I), plt.axis('off')\n",
        "plt.subplot(122), plt.imshow(I_scale), plt.axis('off')\n",
        "plt.tight_layout(pad=1)\n",
        "plt.show()"
      ],
      "execution_count": null,
      "outputs": []
    },
    {
      "cell_type": "code",
      "metadata": {
        "id": "uAn8_6ekqhwI"
      },
      "source": [
        "#Vertical shearing\n",
        "rows,cols, ch = I.shape\n",
        "sv = .5\n",
        "M = np.float32([[1,sv,0],[0,1,0]])\n",
        "I_vshear = cv2.warpAffine(I,M,(cols,rows))\n",
        "plt.subplot(121), plt.imshow(I), plt.axis('off')\n",
        "plt.subplot(122), plt.imshow(I_vshear), plt.axis('off')\n",
        "plt.tight_layout(pad=1)\n",
        "plt.show()"
      ],
      "execution_count": null,
      "outputs": []
    },
    {
      "cell_type": "code",
      "metadata": {
        "id": "no_1Ua-DqlX4"
      },
      "source": [
        "#Horizontal shearing\n",
        "rows,cols, ch = I.shape\n",
        "sh = .5\n",
        "M = np.float32([[1,0,0],[sh,1,0]])\n",
        "I_hshear = cv2.warpAffine(I,M,(cols,rows))\n",
        "plt.subplot(121), plt.imshow(I), plt.axis('off')\n",
        "plt.subplot(122), plt.imshow(I_hshear), plt.axis('off')\n",
        "plt.tight_layout(pad=1)\n",
        "plt.show()"
      ],
      "execution_count": null,
      "outputs": []
    },
    {
      "cell_type": "code",
      "metadata": {
        "id": "fWnEN2p1qspP"
      },
      "source": [
        "#Image Flipping\n",
        "I = cv2.imread('./images/lenacolor256.png')\n",
        "I = cv2.cvtColor(I, cv2.COLOR_BGR2RGB)\n",
        "I_flipVertical = cv2.flip(I, 0)\n",
        "I_flipHorizontal = cv2.flip(I, 1)\n",
        "I_flipBoth = cv2.flip(I, -1)\n",
        "plt.subplot(221), plt.imshow(I), plt.axis('off')\n",
        "plt.subplot(222), plt.imshow(I_flipVertical), plt.axis('off')\n",
        "plt.subplot(223), plt.imshow(I_flipHorizontal), plt.axis('off')\n",
        "plt.subplot(224), plt.imshow(I_flipBoth), plt.axis('off')\n",
        "plt.tight_layout(pad=.5)\n",
        "plt.show()"
      ],
      "execution_count": null,
      "outputs": []
    },
    {
      "cell_type": "code",
      "metadata": {
        "id": "LjC9SM6Mqtcl"
      },
      "source": [
        "#Image Warp\n",
        "from skimage.transform import warp, swirl\n",
        "I = cv2.imread('./images/cat.png')\n",
        "I = cv2.cvtColor(I, cv2.COLOR_BGR2RGB)\n",
        "def swirling(xy, x0, y0, R):\n",
        " r = np.sqrt((xy[:,1]-x0)**2 + (xy[:,0]-y0)**2)\n",
        " a = np.pi*r / R\n",
        " xy[:, 1], xy[:, 0] = (xy[:, 1]-x0)*np.cos(a) + (xy[:, 0]-y0)*np.sin(a) + x0, -(xy[:, 1]-x0)*np.sin(a) + (xy[:, 0]-y0)*np.cos(a) + y0\n",
        " return xy\n",
        "I_warped = warp(I, swirling, map_args={'x0':250, 'y0':250, 'R':200})\n",
        "plt.subplot(121), plt.imshow(I), plt.axis('off'),\n",
        "plt.subplot(122), plt.imshow(I_warped), plt.axis('off')\n",
        "plt.tight_layout(pad=.5)\n",
        "plt.show()"
      ],
      "execution_count": null,
      "outputs": []
    },
    {
      "cell_type": "code",
      "metadata": {
        "id": "aHSQAfw3q1uW"
      },
      "source": [
        "#Image Swirl\n",
        "I_swirl = swirl(I, rotation=0, strength=20, radius=120)\n",
        "plt.subplot(121), plt.imshow(I), plt.axis('off'),\n",
        "plt.subplot(122), plt.imshow(I_swirl), plt.axis('off')\n",
        "plt.tight_layout(pad=.5)\n",
        "plt.show()"
      ],
      "execution_count": null,
      "outputs": []
    },
    {
      "cell_type": "code",
      "metadata": {
        "id": "L8fEcFZcqxMG"
      },
      "source": [
        "#Image Affine Transformation\n",
        "rows, cols = I.shape[:2]\n",
        "#src_points = np.float32([[0,0], [cols-1,0], [0,rows-1], [cols-1,rows-1]])\n",
        "#dst_points = np.float32([[0,0], [cols-1,0], [int(0.33*cols),rows-1], [int(0.66*cols),rows-1]])\n",
        "src_points = np.float32([[0,0], [0,rows-1], [cols/2,0], [cols/2,rows-1]])\n",
        "dst_points = np.float32([[0,100], [0,rows-101], [cols/2,0], [cols/2,rows-1]])\n",
        "projective_matrix = cv2.getPerspectiveTransform(src_points, dst_points)\n",
        "I_affine = cv2.warpPerspective(I, projective_matrix, (cols,rows))\n",
        "plt.subplot(121), plt.imshow(I), plt.axis('off'),\n",
        "plt.subplot(122), plt.imshow(I_affine), plt.axis('off')\n",
        "plt.tight_layout(pad=.5)\n",
        "plt.show()"
      ],
      "execution_count": null,
      "outputs": []
    }
  ]
}