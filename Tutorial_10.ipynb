{
  "nbformat": 4,
  "nbformat_minor": 0,
  "metadata": {
    "colab": {
      "name": "Tutorial_10.ipynb",
      "provenance": [],
      "authorship_tag": "ABX9TyNvW9RPzZ+UJ/kOjeY2ETg0",
      "include_colab_link": true
    },
    "kernelspec": {
      "name": "python3",
      "display_name": "Python 3"
    },
    "language_info": {
      "name": "python"
    },
    "accelerator": "GPU"
  },
  "cells": [
    {
      "cell_type": "markdown",
      "metadata": {
        "id": "view-in-github",
        "colab_type": "text"
      },
      "source": [
        "<a href=\"https://colab.research.google.com/github/Zahra2351373/Image-Processing-Tutorials/blob/Master/Tutorial_10.ipynb\" target=\"_parent\"><img src=\"https://colab.research.google.com/assets/colab-badge.svg\" alt=\"Open In Colab\"/></a>"
      ]
    },
    {
      "cell_type": "code",
      "metadata": {
        "id": "J9cizULIrtkf"
      },
      "source": [
        "# Import libraries\n",
        "import os\n",
        "import random\n",
        "import matplotlib.pyplot as plt\n",
        "import numpy as np\n",
        "import time\n",
        "from tqdm import tqdm\n",
        "from keras import callbacks\n",
        "from keras import backend as K\n",
        "from tensorflow import keras\n",
        "from __future__ import division\n",
        "from keras.models import Model\n",
        "from keras.layers import Input, concatenate, Conv2D, MaxPooling2D, UpSampling2D, Reshape, core, Dropout\n",
        "from keras.optimizers import Adam\n",
        "from sklearn.model_selection import train_test_split\n",
        "from keras import backend as K\n",
        "from keras.optimizers import *\n",
        "from keras.layers import *        \n",
        "import tensorflow as tf\n",
        "\n",
        "%matplotlib inline"
      ],
      "execution_count": 1,
      "outputs": []
    },
    {
      "cell_type": "code",
      "metadata": {
        "id": "Oi0-4rNHtOzo"
      },
      "source": [
        "# Download url of lung images.\n",
        "url = \"https://github.com/hasibzunair/cu-comp478-lab/releases/download/v0.0.1/LUNGS_images.npy\"\n",
        "filename = os.path.join(os.getcwd(), \"LUNGS_images.npy\")\n",
        "keras.utils.get_file(filename, url)\n",
        "\n",
        "# Download url of lung segmentation masks\n",
        "url = \"https://github.com/hasibzunair/cu-comp478-lab/releases/download/v0.0.1/LUNGS_mask.npy\"\n",
        "filename = os.path.join(os.getcwd(), \"LUNGS_mask.npy\")\n",
        "keras.utils.get_file(filename, url)"
      ],
      "execution_count": null,
      "outputs": []
    },
    {
      "cell_type": "code",
      "metadata": {
        "id": "afQagFvwtRhT"
      },
      "source": [
        "data = np.load(\"LUNGS_images.npy\") \n",
        "labels = np.load(\"LUNGS_mask.npy\")\n",
        "print(data.shape, labels.shape)"
      ],
      "execution_count": null,
      "outputs": []
    },
    {
      "cell_type": "code",
      "metadata": {
        "id": "dUixFvTdtUYk"
      },
      "source": [
        "# define 10 random numbers\n",
        "rand = [random.randint(0, 1000) for _ in range(10)]\n",
        "\n",
        "for img, mask in zip(data[rand], labels[rand]):\n",
        "    print(img.shape, mask.shape)\n",
        "    img = np.squeeze(img, axis=-1) # change to H, W\n",
        "    mask = np.squeeze(mask, axis=-1) # change to H, W\n",
        "\n",
        "    plt.figure(figsize=(14,12))\n",
        "    plt.subplot(1,2,1)\n",
        "    plt.title('Input')\n",
        "    plt.imshow(img, cmap='gray')\n",
        "    plt.grid(False)\n",
        "\n",
        "    plt.subplot(1,2,2)\n",
        "    plt.grid(False)\n",
        "    plt.title('Ground Truth Mask')\n",
        "    plt.imshow(mask, cmap='gray')\n",
        "    plt.show()"
      ],
      "execution_count": null,
      "outputs": []
    },
    {
      "cell_type": "code",
      "metadata": {
        "id": "AVnX3ZIEtYNb"
      },
      "source": [
        "# From https://github.com/jocicmarko/ultrasound-nerve-segmentation/blob/master/train.py\n",
        "def unet(input_size = (256,256,1)):\n",
        "    \"Baseline Unet\"\n",
        "    \n",
        "    inputs = Input(input_size)\n",
        "    conv1 = Conv2D(32, (3, 3), activation='relu', padding='same')(inputs)\n",
        "    conv1 = Conv2D(32, (3, 3), activation='relu', padding='same')(conv1)\n",
        "    pool1 = MaxPooling2D(pool_size=(2, 2))(conv1)\n",
        "\n",
        "    conv2 = Conv2D(64, (3, 3), activation='relu', padding='same')(pool1)\n",
        "    conv2 = Conv2D(64, (3, 3), activation='relu', padding='same')(conv2)\n",
        "    pool2 = MaxPooling2D(pool_size=(2, 2))(conv2)\n",
        "\n",
        "    conv3 = Conv2D(128, (3, 3), activation='relu', padding='same')(pool2)\n",
        "    conv3 = Conv2D(128, (3, 3), activation='relu', padding='same')(conv3)\n",
        "    pool3 = MaxPooling2D(pool_size=(2, 2))(conv3)\n",
        "\n",
        "    conv4 = Conv2D(256, (3, 3), activation='relu', padding='same')(pool3)\n",
        "    conv4 = Conv2D(256, (3, 3), activation='relu', padding='same')(conv4)\n",
        "    pool4 = MaxPooling2D(pool_size=(2, 2))(conv4)\n",
        "\n",
        "    conv5 = Conv2D(512, (3, 3), activation='relu', padding='same')(pool4)\n",
        "    conv5 = Conv2D(512, (3, 3), activation='relu', padding='same')(conv5)\n",
        "\n",
        "    up6 = concatenate([Conv2DTranspose(256, (2, 2), strides=(2, 2), padding='same')(conv5), conv4], axis=3)\n",
        "    conv6 = Conv2D(256, (3, 3), activation='relu', padding='same')(up6)\n",
        "    conv6 = Conv2D(256, (3, 3), activation='relu', padding='same')(conv6)\n",
        "\n",
        "    up7 = concatenate([Conv2DTranspose(128, (2, 2), strides=(2, 2), padding='same')(conv6), conv3], axis=3)\n",
        "    conv7 = Conv2D(128, (3, 3), activation='relu', padding='same')(up7)\n",
        "    conv7 = Conv2D(128, (3, 3), activation='relu', padding='same')(conv7)\n",
        "\n",
        "    up8 = concatenate([Conv2DTranspose(64, (2, 2), strides=(2, 2), padding='same')(conv7), conv2], axis=3)\n",
        "    conv8 = Conv2D(64, (3, 3), activation='relu', padding='same')(up8)\n",
        "    conv8 = Conv2D(64, (3, 3), activation='relu', padding='same')(conv8)\n",
        "\n",
        "    up9 = concatenate([Conv2DTranspose(32, (2, 2), strides=(2, 2), padding='same')(conv8), conv1], axis=3)\n",
        "    conv9 = Conv2D(32, (3, 3), activation='relu', padding='same')(up9)\n",
        "    conv9 = Conv2D(32, (3, 3), activation='relu', padding='same')(conv9)\n",
        "\n",
        "    # Binary segmentation\n",
        "    conv10 = Conv2D(1, (1, 1), activation='sigmoid')(conv9) \n",
        "\n",
        "    model = Model(inputs=[inputs], outputs=[conv10])\n",
        "\n",
        "    # Compile model with optim and loss\n",
        "    optim = 'adam' \n",
        "    \n",
        "    # If bin seg, use bce loss, or categorical_crossentropy for multi class\n",
        "    loss_func = 'binary_crossentropy'  \n",
        "    \n",
        "    model.compile(optimizer = optim, loss = loss_func, metrics = [jacard, dice_coef])\n",
        "\n",
        "    return model\n",
        "\n",
        "\n",
        "# Metrics\n",
        "smooth = 1\n",
        "def jacard(y_true, y_pred):\n",
        "    y_true_f = K.flatten(y_true)\n",
        "    y_pred_f = K.flatten(y_pred)\n",
        "    intersection = K.sum ( y_true_f * y_pred_f)\n",
        "    union = K.sum ( y_true_f + y_pred_f - y_true_f * y_pred_f)\n",
        "    return intersection/union\n",
        "\n",
        "\n",
        "def dice_coef(y_true, y_pred):\n",
        "    y_true_f = K.flatten(y_true)\n",
        "    y_pred_f = K.flatten(y_pred)\n",
        "    intersection = K.sum(y_true_f * y_pred_f)\n",
        "    return (2. * intersection + smooth) / (K.sum(y_true_f) + K.sum(y_pred_f) + smooth)"
      ],
      "execution_count": 5,
      "outputs": []
    },
    {
      "cell_type": "code",
      "metadata": {
        "id": "900dZeLetdSO"
      },
      "source": [
        "# Plot and save accuravy loss graphs individually\n",
        "def plot_loss_accu(history):\n",
        "    loss = history.history['loss'][1:]\n",
        "    val_loss = history.history['val_loss'][1:]\n",
        "    epochs = range(len(loss))\n",
        "    plt.plot(epochs, loss, 'g')\n",
        "    plt.plot(epochs, val_loss, 'y')\n",
        "    plt.title('Training and validation loss')\n",
        "    plt.ylabel('Loss %')\n",
        "    plt.xlabel('Epoch')\n",
        "    plt.legend(['training', 'validation'], loc='upper right')\n",
        "    plt.grid(True)\n",
        "    plt.show()\n",
        "    \n",
        "    loss = history.history['jacard'][1:]\n",
        "    val_loss = history.history['val_jacard'][1:]\n",
        "    epochs = range(len(loss))\n",
        "    plt.plot(epochs, loss, 'r')\n",
        "    plt.plot(epochs, val_loss, 'b')\n",
        "    plt.title('Training and validation jaccard index')\n",
        "    plt.ylabel('Accuracy %')\n",
        "    plt.xlabel('Epoch')\n",
        "    plt.legend(['training', 'validation'], loc='lower right')\n",
        "    plt.grid(True)\n",
        "    plt.show()"
      ],
      "execution_count": 6,
      "outputs": []
    },
    {
      "cell_type": "code",
      "metadata": {
        "colab": {
          "base_uri": "https://localhost:8080/"
        },
        "id": "6-r5pisStf__",
        "outputId": "421e6218-1497-49dc-e07c-9a302fcf6c68"
      },
      "source": [
        "# Build model\n",
        "model = unet(input_size = (data.shape[1], data.shape[2], data.shape[-1]))\n",
        "model.summary()"
      ],
      "execution_count": 7,
      "outputs": [
        {
          "output_type": "stream",
          "text": [
            "Model: \"model\"\n",
            "__________________________________________________________________________________________________\n",
            "Layer (type)                    Output Shape         Param #     Connected to                     \n",
            "==================================================================================================\n",
            "input_1 (InputLayer)            [(None, 256, 256, 1) 0                                            \n",
            "__________________________________________________________________________________________________\n",
            "conv2d (Conv2D)                 (None, 256, 256, 32) 320         input_1[0][0]                    \n",
            "__________________________________________________________________________________________________\n",
            "conv2d_1 (Conv2D)               (None, 256, 256, 32) 9248        conv2d[0][0]                     \n",
            "__________________________________________________________________________________________________\n",
            "max_pooling2d (MaxPooling2D)    (None, 128, 128, 32) 0           conv2d_1[0][0]                   \n",
            "__________________________________________________________________________________________________\n",
            "conv2d_2 (Conv2D)               (None, 128, 128, 64) 18496       max_pooling2d[0][0]              \n",
            "__________________________________________________________________________________________________\n",
            "conv2d_3 (Conv2D)               (None, 128, 128, 64) 36928       conv2d_2[0][0]                   \n",
            "__________________________________________________________________________________________________\n",
            "max_pooling2d_1 (MaxPooling2D)  (None, 64, 64, 64)   0           conv2d_3[0][0]                   \n",
            "__________________________________________________________________________________________________\n",
            "conv2d_4 (Conv2D)               (None, 64, 64, 128)  73856       max_pooling2d_1[0][0]            \n",
            "__________________________________________________________________________________________________\n",
            "conv2d_5 (Conv2D)               (None, 64, 64, 128)  147584      conv2d_4[0][0]                   \n",
            "__________________________________________________________________________________________________\n",
            "max_pooling2d_2 (MaxPooling2D)  (None, 32, 32, 128)  0           conv2d_5[0][0]                   \n",
            "__________________________________________________________________________________________________\n",
            "conv2d_6 (Conv2D)               (None, 32, 32, 256)  295168      max_pooling2d_2[0][0]            \n",
            "__________________________________________________________________________________________________\n",
            "conv2d_7 (Conv2D)               (None, 32, 32, 256)  590080      conv2d_6[0][0]                   \n",
            "__________________________________________________________________________________________________\n",
            "max_pooling2d_3 (MaxPooling2D)  (None, 16, 16, 256)  0           conv2d_7[0][0]                   \n",
            "__________________________________________________________________________________________________\n",
            "conv2d_8 (Conv2D)               (None, 16, 16, 512)  1180160     max_pooling2d_3[0][0]            \n",
            "__________________________________________________________________________________________________\n",
            "conv2d_9 (Conv2D)               (None, 16, 16, 512)  2359808     conv2d_8[0][0]                   \n",
            "__________________________________________________________________________________________________\n",
            "conv2d_transpose (Conv2DTranspo (None, 32, 32, 256)  524544      conv2d_9[0][0]                   \n",
            "__________________________________________________________________________________________________\n",
            "concatenate (Concatenate)       (None, 32, 32, 512)  0           conv2d_transpose[0][0]           \n",
            "                                                                 conv2d_7[0][0]                   \n",
            "__________________________________________________________________________________________________\n",
            "conv2d_10 (Conv2D)              (None, 32, 32, 256)  1179904     concatenate[0][0]                \n",
            "__________________________________________________________________________________________________\n",
            "conv2d_11 (Conv2D)              (None, 32, 32, 256)  590080      conv2d_10[0][0]                  \n",
            "__________________________________________________________________________________________________\n",
            "conv2d_transpose_1 (Conv2DTrans (None, 64, 64, 128)  131200      conv2d_11[0][0]                  \n",
            "__________________________________________________________________________________________________\n",
            "concatenate_1 (Concatenate)     (None, 64, 64, 256)  0           conv2d_transpose_1[0][0]         \n",
            "                                                                 conv2d_5[0][0]                   \n",
            "__________________________________________________________________________________________________\n",
            "conv2d_12 (Conv2D)              (None, 64, 64, 128)  295040      concatenate_1[0][0]              \n",
            "__________________________________________________________________________________________________\n",
            "conv2d_13 (Conv2D)              (None, 64, 64, 128)  147584      conv2d_12[0][0]                  \n",
            "__________________________________________________________________________________________________\n",
            "conv2d_transpose_2 (Conv2DTrans (None, 128, 128, 64) 32832       conv2d_13[0][0]                  \n",
            "__________________________________________________________________________________________________\n",
            "concatenate_2 (Concatenate)     (None, 128, 128, 128 0           conv2d_transpose_2[0][0]         \n",
            "                                                                 conv2d_3[0][0]                   \n",
            "__________________________________________________________________________________________________\n",
            "conv2d_14 (Conv2D)              (None, 128, 128, 64) 73792       concatenate_2[0][0]              \n",
            "__________________________________________________________________________________________________\n",
            "conv2d_15 (Conv2D)              (None, 128, 128, 64) 36928       conv2d_14[0][0]                  \n",
            "__________________________________________________________________________________________________\n",
            "conv2d_transpose_3 (Conv2DTrans (None, 256, 256, 32) 8224        conv2d_15[0][0]                  \n",
            "__________________________________________________________________________________________________\n",
            "concatenate_3 (Concatenate)     (None, 256, 256, 64) 0           conv2d_transpose_3[0][0]         \n",
            "                                                                 conv2d_1[0][0]                   \n",
            "__________________________________________________________________________________________________\n",
            "conv2d_16 (Conv2D)              (None, 256, 256, 32) 18464       concatenate_3[0][0]              \n",
            "__________________________________________________________________________________________________\n",
            "conv2d_17 (Conv2D)              (None, 256, 256, 32) 9248        conv2d_16[0][0]                  \n",
            "__________________________________________________________________________________________________\n",
            "conv2d_18 (Conv2D)              (None, 256, 256, 1)  33          conv2d_17[0][0]                  \n",
            "==================================================================================================\n",
            "Total params: 7,759,521\n",
            "Trainable params: 7,759,521\n",
            "Non-trainable params: 0\n",
            "__________________________________________________________________________________________________\n"
          ],
          "name": "stdout"
        }
      ]
    },
    {
      "cell_type": "code",
      "metadata": {
        "colab": {
          "base_uri": "https://localhost:8080/"
        },
        "id": "cFrL5NGUtilJ",
        "outputId": "426fc84f-590c-45d3-f9a7-affed9279d4d"
      },
      "source": [
        "x_train, x_test, y_train, y_test = train_test_split(data, labels, shuffle=True, test_size=0.20, random_state=42)\n",
        "print(\"Data shapes-------> \", x_train.shape, x_test.shape, y_train.shape, y_test.shape)"
      ],
      "execution_count": 8,
      "outputs": [
        {
          "output_type": "stream",
          "text": [
            "Data shapes------->  (816, 256, 256, 1) (205, 256, 256, 1) (816, 256, 256, 1) (205, 256, 256, 1)\n"
          ],
          "name": "stdout"
        }
      ]
    },
    {
      "cell_type": "code",
      "metadata": {
        "colab": {
          "base_uri": "https://localhost:8080/",
          "height": 933
        },
        "id": "wOV2urnitm28",
        "outputId": "0b03b04c-1627-4333-8aea-46c78e75eea0"
      },
      "source": [
        "# Train\n",
        "batch_size = 8\n",
        "epochs = 10\n",
        "history = model.fit(x_train, y_train,\n",
        "                batch_size=batch_size,\n",
        "                epochs=epochs,\n",
        "                validation_data=(x_test, y_test),\n",
        "                shuffle=True)\n",
        "\n",
        "# Plot model training history\n",
        "plot_loss_accu(history)"
      ],
      "execution_count": 9,
      "outputs": [
        {
          "output_type": "stream",
          "text": [
            "Epoch 1/10\n",
            "102/102 [==============================] - 80s 434ms/step - loss: 0.5958 - jacard: 0.2768 - dice_coef: 0.4138 - val_loss: 0.2157 - val_jacard: 0.6024 - val_dice_coef: 0.7513\n",
            "Epoch 2/10\n",
            "102/102 [==============================] - 41s 404ms/step - loss: 0.1169 - jacard: 0.6684 - dice_coef: 0.7833 - val_loss: 0.0223 - val_jacard: 0.9440 - val_dice_coef: 0.9712\n",
            "Epoch 3/10\n",
            "102/102 [==============================] - 41s 403ms/step - loss: 0.0199 - jacard: 0.9366 - dice_coef: 0.9672 - val_loss: 0.0168 - val_jacard: 0.9486 - val_dice_coef: 0.9736\n",
            "Epoch 4/10\n",
            "102/102 [==============================] - 41s 403ms/step - loss: 0.0199 - jacard: 0.9382 - dice_coef: 0.9680 - val_loss: 0.0142 - val_jacard: 0.9515 - val_dice_coef: 0.9751\n",
            "Epoch 5/10\n",
            "102/102 [==============================] - 41s 403ms/step - loss: 0.0130 - jacard: 0.9539 - dice_coef: 0.9764 - val_loss: 0.0113 - val_jacard: 0.9610 - val_dice_coef: 0.9801\n",
            "Epoch 6/10\n",
            "102/102 [==============================] - 41s 403ms/step - loss: 0.0117 - jacard: 0.9608 - dice_coef: 0.9800 - val_loss: 0.0093 - val_jacard: 0.9702 - val_dice_coef: 0.9849\n",
            "Epoch 7/10\n",
            "102/102 [==============================] - 41s 403ms/step - loss: 0.0090 - jacard: 0.9697 - dice_coef: 0.9846 - val_loss: 0.0096 - val_jacard: 0.9714 - val_dice_coef: 0.9855\n",
            "Epoch 8/10\n",
            "102/102 [==============================] - 41s 402ms/step - loss: 0.0099 - jacard: 0.9668 - dice_coef: 0.9831 - val_loss: 0.0085 - val_jacard: 0.9722 - val_dice_coef: 0.9859\n",
            "Epoch 9/10\n",
            "102/102 [==============================] - 41s 402ms/step - loss: 0.0079 - jacard: 0.9721 - dice_coef: 0.9858 - val_loss: 0.0071 - val_jacard: 0.9777 - val_dice_coef: 0.9887\n",
            "Epoch 10/10\n",
            "102/102 [==============================] - 41s 403ms/step - loss: 0.0071 - jacard: 0.9763 - dice_coef: 0.9880 - val_loss: 0.0069 - val_jacard: 0.9775 - val_dice_coef: 0.9886\n"
          ],
          "name": "stdout"
        },
        {
          "output_type": "display_data",
          "data": {
            "image/png": "[encoded data removed]",
            "text/plain": [
              "<Figure size 432x288 with 1 Axes>"
            ]
          },
          "metadata": {
            "tags": [],
            "needs_background": "light"
          }
        },
        {
          "output_type": "display_data",
          "data": {
            "image/png": "[encoded data removed]",
            "text/plain": [
              "<Figure size 432x288 with 1 Axes>"
            ]
          },
          "metadata": {
            "tags": [],
            "needs_background": "light"
          }
        }
      ]
    },
    {
      "cell_type": "code",
      "metadata": {
        "id": "1T_R8Xmstqaq"
      },
      "source": [
        "# Evaluate trained model using Jaccard and Dice metric\n",
        "yp = None\n",
        "yp = model.predict(x=x_test, batch_size=batch_size, verbose=0)\n",
        "#Round off boolean masks\n",
        "yp = np.round(yp,0)"
      ],
      "execution_count": 10,
      "outputs": []
    },
    {
      "cell_type": "code",
      "metadata": {
        "id": "R79yj6XstsxQ"
      },
      "source": [
        "for i in range(5):\n",
        "    plt.figure(figsize=(20,10))\n",
        "    plt.subplot(1,3,1)\n",
        "    if len(x_test[i].shape) >= 2:\n",
        "        plt.grid(False)\n",
        "        plt.imshow(x_test[i].squeeze(), cmap='gray') # 1-channel image\n",
        "    else:\n",
        "        plt.grid(False)\n",
        "        plt.imshow(x_test[i]) # 3-channel\n",
        "        \n",
        "    plt.title('Input')\n",
        "    plt.subplot(1,3,2)\n",
        "    plt.grid(False)\n",
        "    plt.imshow(y_test[i].reshape(y_test[i].shape[0],y_test[i].shape[1]), cmap='gray')\n",
        "    plt.title('Ground Truth')\n",
        "    plt.subplot(1,3,3)\n",
        "    plt.grid(False)\n",
        "    plt.imshow(yp[i].reshape(yp[i].shape[0],yp[i].shape[1]),cmap='gray')\n",
        "    plt.title('Prediction')\n",
        "    \n",
        "    # Calc jaccard index of predictions\n",
        "    intersection = yp[i].ravel() * y_test[i].ravel()\n",
        "    union = yp[i].ravel() + y_test[i].ravel() - intersection\n",
        "    jacard = (np.sum(intersection)/np.sum(union))  \n",
        "    plt.suptitle('Jacard Index: '+ str(np.sum(intersection)) +'/'+ str(np.sum(union)) +' = '+str(jacard))\n",
        "    plt.show()\n",
        "    plt.close()\n"
      ],
      "execution_count": null,
      "outputs": []
    }
  ]
}