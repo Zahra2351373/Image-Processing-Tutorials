{
  "nbformat": 4,
  "nbformat_minor": 0,
  "metadata": {
    "colab": {
      "name": "Tutorial 3.ipynb",
      "provenance": [],
      "authorship_tag": "ABX9TyOAQkpTxLeEJDGwdzPy3Sgp",
      "include_colab_link": true
    },
    "kernelspec": {
      "name": "python3",
      "display_name": "Python 3"
    }
  },
  "cells": [
    {
      "cell_type": "markdown",
      "metadata": {
        "id": "view-in-github",
        "colab_type": "text"
      },
      "source": [
        "<a href=\"https://colab.research.google.com/github/Zahra2351373/Image-Processing-Tutorials/blob/Master/Tutorial_3.ipynb\" target=\"_parent\"><img src=\"https://colab.research.google.com/assets/colab-badge.svg\" alt=\"Open In Colab\"/></a>"
      ]
    },
    {
      "cell_type": "code",
      "metadata": {
        "id": "84PVvCAWfb4K"
      },
      "source": [
        "import matplotlib.pyplot as plt\n",
        "import numpy as np\n",
        "import cv2\n",
        "from google.colab.patches import cv2_imshow\n",
        "import os\n",
        "print(cv2.__version__, cv2.__spec__)\n",
        "#print(cv2.getBuildInformation())"
      ],
      "execution_count": null,
      "outputs": []
    },
    {
      "cell_type": "code",
      "metadata": {
        "id": "chZuvUxgqH-W"
      },
      "source": [
        "from google.colab import drive\n",
        "drive.mount('/content/drive')"
      ],
      "execution_count": null,
      "outputs": []
    },
    {
      "cell_type": "code",
      "metadata": {
        "id": "Ry6cjO4WqQqH"
      },
      "source": [
        "# After executing the cell above, Drive\n",
        "# files will be present in \"/content/drive/My Drive\".\n",
        "#Second change your current folder to point working folder My Drive\n",
        "os.chdir(\"/content/drive/My Drive/\")\n",
        "os.listdir()"
      ],
      "execution_count": null,
      "outputs": []
    },
    {
      "cell_type": "code",
      "metadata": {
        "id": "CHFA3zNnqTOz"
      },
      "source": [
        "I = cv2.imread('./images/head.png')\n",
        "#Image negatives s=T(r)=L-1-r\n",
        "# Subtract the img from max value(calculated from dtype)\n",
        "I_neg = 255 - I\n",
        "plt.figure('Image Negative')\n",
        "plt.subplot(121), plt.imshow(I), plt.axis('off')\n",
        "plt.subplot(122), plt.imshow(I_neg), plt.axis('off')\n",
        "plt.tight_layout(pad=.2)\n",
        "plt.show()"
      ],
      "execution_count": null,
      "outputs": []
    },
    {
      "cell_type": "code",
      "metadata": {
        "id": "I8bRzI6u_VSB"
      },
      "source": [
        "# Log transformation.\n",
        "c = 255/(np.log(1 + np.max(I)))\n",
        "I_log = c * np.log(1 + I)\n",
        "# Specify the data type.\n",
        "I_log = np.array(I_log, dtype = np.uint8)\n",
        "plt.figure('Log transformation')\n",
        "plt.subplot(121), plt.imshow(I), plt.axis('off')\n",
        "plt.subplot(122), plt.imshow(I_log), plt.axis('off')\n",
        "plt.tight_layout(pad=.2)\n",
        "plt.show()"
      ],
      "execution_count": null,
      "outputs": []
    },
    {
      "cell_type": "code",
      "metadata": {
        "id": "de71UC-1_XsG"
      },
      "source": [
        "#Power-Law (Gamma) Transformation\n",
        "# Trying 4 gamma values.\n",
        "#gamma in [0.1, 0.5, 1.2, 2.2]:\n",
        "# Apply gamma correction.\n",
        "gamma = 2.2\n",
        "I_gamma = np.array(255*(I / 255) ** gamma, dtype = 'uint8')\n",
        "plt.figure('Power-Law (Gamma) Transformation')\n",
        "plt.subplot(121), plt.imshow(I), plt.axis('off')\n",
        "plt.subplot(122), plt.imshow(I_gamma), plt.axis('off')\n",
        "plt.tight_layout(pad=.2)\n",
        "plt.show()"
      ],
      "execution_count": null,
      "outputs": []
    },
    {
      "cell_type": "code",
      "metadata": {
        "id": "RHEcsnaD_bgh"
      },
      "source": [
        "# Function to map each intensity level to output intensity level.\n",
        "def pixelVal(pix, r1, s1, r2, s2):\n",
        " if (0 <= pix and pix <= r1):\n",
        "    return (s1 / r1)*pix\n",
        "\n",
        " elif (r1 < pix and pix <= r2):\n",
        "    return ((s2 - s1)/(r2 - r1)) * (pix - r1) + s1\n",
        "\n",
        " else:\n",
        "    return ((255 - s2)/(255 - r2)) * (pix - r2) + s2\n",
        "\n",
        "\n",
        "# Define parameters.\n",
        "r1 = 70\n",
        "s1 = 0\n",
        "r2 = 140\n",
        "s2 = 255\n",
        "# Vectorize the function to apply it to each value in the Numpy array.\n",
        "pixelVal_vec = np.vectorize(pixelVal)\n",
        "# Apply contrast stretching.\n",
        "I_contrast_stretched = pixelVal_vec(I, r1, s1, r2, s2)\n",
        "plt.figure('Piece-wise Linear Transformation')\n",
        "plt.subplot(121), plt.imshow(I), plt.axis('off')\n",
        "plt.subplot(122), plt.imshow(I_contrast_stretched), plt.axis('off')\n",
        "plt.tight_layout(pad=.2)\n",
        "plt.show()"
      ],
      "execution_count": null,
      "outputs": []
    },
    {
      "cell_type": "code",
      "metadata": {
        "id": "ULOnCytC_lA8"
      },
      "source": [
        "I = cv2.imread('./images/fruits.png')\n",
        "##OpenCV follows BGR order, while plt follows RGB order\n",
        "I = cv2.cvtColor(I, cv2.COLOR_BGR2RGB)\n",
        "J = cv2.cvtColor(I, cv2.COLOR_BGR2GRAY)\n",
        "plt.figure('Color and grascale images')\n",
        "plt.subplot(121), plt.imshow(I), plt.title('Color image '),\n",
        "plt.axis('off')\n",
        "plt.subplot(122), plt.imshow(J, cmap ='gray'), plt.title('Grayscale image'),\n",
        "plt.axis('off')\n",
        "plt.tight_layout()\n",
        "plt.show()"
      ],
      "execution_count": null,
      "outputs": []
    },
    {
      "cell_type": "code",
      "metadata": {
        "id": "4pqfihkU_oeM"
      },
      "source": [
        "#Image histogram\n",
        "h = cv2.calcHist([J],[0],None,[256],[0,256])\n",
        "#h = cv2.normalize(h, h).flatten()\n",
        "plt.plot(h)\n",
        "plt.title('Histogram for grayscale image')\n",
        "plt.tight_layout()\n",
        "plt.show()"
      ],
      "execution_count": null,
      "outputs": []
    },
    {
      "cell_type": "code",
      "metadata": {
        "id": "XCW17sNH_sD3"
      },
      "source": [
        " #color histogram\n",
        "color = ('b','g','r')\n",
        "for channel,col in enumerate(color):\n",
        "  h = cv2.calcHist([I],[channel],None,[256],[0,256])\n",
        "  plt.plot(h,color = col)\n",
        "  plt.xlim([0,256])\n",
        "\n",
        "plt.title('Histogram for color image')\n",
        "plt.tight_layout()\n",
        "plt.show()"
      ],
      "execution_count": null,
      "outputs": []
    },
    {
      "cell_type": "code",
      "metadata": {
        "id": "G5PWkyee_58Q"
      },
      "source": [
        "# alternative way to compute histogram of an image\n",
        "plt.figure('Image histogram2')\n",
        "I = cv2.imread('./images/chat.png')\n",
        "plt.hist(I.ravel(),256,[0,256])\n",
        "plt.show()"
      ],
      "execution_count": null,
      "outputs": []
    },
    {
      "cell_type": "code",
      "metadata": {
        "id": "-6IYQoXy_vf8"
      },
      "source": [
        "J_equalized = cv2.equalizeHist(J)\n",
        "plt.subplot(121), plt.imshow(J, cmap ='gray'), plt.axis('off')\n",
        "plt.subplot(122), plt.imshow(J_equalized, cmap ='gray'), plt.axis('off')\n",
        "plt.tight_layout(pad=.2)\n",
        "plt.show()\n",
        "plt.hist(J_equalized.ravel(),256,[0,256])\n",
        "plt.show()"
      ],
      "execution_count": null,
      "outputs": []
    },
    {
      "cell_type": "code",
      "metadata": {
        "id": "kawXcBBOAJN3"
      },
      "source": [
        "I = cv2.imread('./images/fruits.png')\n",
        "I = cv2.cvtColor(I, cv2.COLOR_BGR2RGB)\n",
        "# Generate Gaussian noise\n",
        "noise = np.random.normal(0,1,I.size)\n",
        "noise = noise.reshape(I.shape[0],I.shape[1],I.shape[2]).astype('uint8')\n",
        "# Add the Gaussian noise to the image\n",
        "I_noisy = cv2.add(I,noise)\n",
        "plt.figure('Image noise')\n",
        "plt.subplot(131), plt.imshow(I), plt.axis('off')\n",
        "plt.subplot(132), plt.imshow(noise), plt.axis('off')\n",
        "plt.subplot(133), plt.imshow(I_noisy), plt.axis('off')\n",
        "plt.tight_layout(pad=-1)\n",
        "plt.show()\n",
        "# plt.figure('Image noisy')\n",
        "# Ic = cv2.hconcat([I,noise,I_noisy])\n",
        "# plt.imshow(Ic), plt.axis('off')\n",
        "# plt.show()"
      ],
      "execution_count": null,
      "outputs": []
    },
    {
      "cell_type": "code",
      "metadata": {
        "id": "bJr2J60ZAlJg"
      },
      "source": [
        "I = cv2.imread('./images/cat.png',0)\n",
        "#Histogram equalization\n",
        "I_equalized = cv2.equalizeHist(I)\n",
        "plt.hist(I.ravel(),256,[0,256])\n",
        "plt.hist(I_equalized.ravel(),256,[0,256])\n",
        "plt.show()"
      ],
      "execution_count": null,
      "outputs": []
    }
  ]
}