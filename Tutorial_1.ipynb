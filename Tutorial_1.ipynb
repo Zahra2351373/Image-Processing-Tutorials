{
  "nbformat": 4,
  "nbformat_minor": 0,
  "metadata": {
    "colab": {
      "name": "Tutorial 1.ipynb",
      "provenance": [],
      "collapsed_sections": [],
      "authorship_tag": "ABX9TyNjnzx3btQNmaMDd8bV/fux",
      "include_colab_link": true
    },
    "kernelspec": {
      "name": "python3",
      "display_name": "Python 3"
    }
  },
  "cells": [
    {
      "cell_type": "markdown",
      "metadata": {
        "id": "view-in-github",
        "colab_type": "text"
      },
      "source": [
        "<a href=\"https://colab.research.google.com/github/Zahra2351373/Image-Processing-Tutorials/blob/Master/Tutorial_1.ipynb\" target=\"_parent\"><img src=\"https://colab.research.google.com/assets/colab-badge.svg\" alt=\"Open In Colab\"/></a>"
      ]
    },
    {
      "cell_type": "code",
      "metadata": {
        "id": "PwqmL-NlGuWO"
      },
      "source": [
        "import matplotlib.pyplot as plt\n",
        "import cv2\n",
        "from google.colab.patches import cv2_imshow\n",
        "import os\n",
        "print(cv2.__version__, cv2.__spec__)\n",
        "#print(cv2.getBuildInformation())"
      ],
      "execution_count": null,
      "outputs": []
    },
    {
      "cell_type": "code",
      "metadata": {
        "id": "keH8xPdlZALe"
      },
      "source": [
        "from google.colab import drive\n",
        "drive.mount('/content/drive')"
      ],
      "execution_count": null,
      "outputs": []
    },
    {
      "cell_type": "code",
      "metadata": {
        "id": "MaE0jiJbZCjE"
      },
      "source": [
        "# After executing the cell above, Drive\n",
        "# files will be present in \"/content/drive/My Drive\".\n",
        "#Second change your current folder to point working folder My Drive\n",
        "os.chdir(\"/content/drive/My Drive/\")\n",
        "os.listdir()"
      ],
      "execution_count": null,
      "outputs": []
    },
    {
      "cell_type": "code",
      "metadata": {
        "id": "csWJj-TWZfSN"
      },
      "source": [
        "I = cv2.imread('./images/cat.png')\n",
        "J = cv2.cvtColor(I, cv2.COLOR_BGR2GRAY)\n",
        "print('Image size:', I.shape)\n",
        "print('Image size:', J.shape)\n",
        "#color images\n",
        "cv2_imshow(I)\n",
        "#grayscale image\n",
        "cv2_imshow(J)"
      ],
      "execution_count": null,
      "outputs": []
    },
    {
      "cell_type": "code",
      "metadata": {
        "id": "SEn55YitZbZB"
      },
      "source": [
        "# Resize image\n",
        "resized = cv2.resize(I, (256, 256), interpolation = cv2.INTER_AREA)\n",
        "print('Resized Dimensions : ',resized.shape)\n",
        "#cv2.imwrite('alhambra.png', resized)"
      ],
      "execution_count": null,
      "outputs": []
    },
    {
      "cell_type": "code",
      "metadata": {
        "id": "oUkJsoAtZprC"
      },
      "source": [
        "##OpenCV follows BGR order, while plt follows RGB order\n",
        "I = cv2.cvtColor(I, cv2.COLOR_BGR2RGB)\n",
        "B,G,R = cv2.split(I) # get Blue,Green,Red\n",
        "#I = cv2.merge([R,G,B]) # switch it to RGB\n",
        "plt.figure()\n",
        "plt.subplot(121), plt.imshow(I), plt.title('Color image '), plt.axis('off')\n",
        "plt.subplot(122), plt.imshow(J, cmap ='gray'), plt.title('Grayscale image')\n",
        "plt.axis('off')\n",
        "plt.tight_layout()\n",
        "plt.show()"
      ],
      "execution_count": null,
      "outputs": []
    },
    {
      "cell_type": "code",
      "metadata": {
        "id": "GA9lL-xpZskv"
      },
      "source": [
        "plt.figure('RGB image channels')\n",
        "plt.subplot(131), plt.imshow(R, cmap ='gray'), plt.axis('off')\n",
        "plt.subplot(132), plt.imshow(G, cmap ='gray'), plt.axis('off')\n",
        "plt.subplot(133), plt.imshow(B, cmap ='gray'), plt.axis('off')\n",
        "plt.tight_layout()\n",
        "plt.show()"
      ],
      "execution_count": null,
      "outputs": []
    },
    {
      "cell_type": "code",
      "metadata": {
        "id": "gQlgSUD1Zv6N"
      },
      "source": [
        "#converting image to HSV format\n",
        "HSV = cv2.cvtColor(I,cv2.COLOR_BGR2HSV)\n",
        "H,S,V = cv2.split(HSV)\n",
        "plt.figure('HSV image channels')\n",
        "plt.subplot(131), plt.imshow(H, cmap ='gray'), plt.axis('off')\n",
        "plt.subplot(132), plt.imshow(S, cmap ='gray'), plt.axis('off')\n",
        "plt.subplot(133), plt.imshow(V, cmap ='gray'), plt.axis('off')\n",
        "plt.tight_layout()\n",
        "plt.show()"
      ],
      "execution_count": null,
      "outputs": []
    },
    {
      "cell_type": "code",
      "metadata": {
        "id": "YsnbsjXQZ1pe"
      },
      "source": [
        "#Encoding images in HSV and HLS space\n",
        "I = cv2.imread('./images/lenacolor256.png')\n",
        "J = cv2.cvtColor(I, cv2.COLOR_BGR2RGB)\n",
        "I_hsv = cv2.cvtColor(I, cv2.COLOR_BGR2HSV)\n",
        "plt.figure()\n",
        "plt.subplot(121), plt.imshow(J), plt.axis('off')\n",
        "plt.subplot(122), plt.imshow(I_hsv), plt.axis('off')\n",
        "plt.tight_layout()\n",
        "plt.show()"
      ],
      "execution_count": null,
      "outputs": []
    }
  ]
}