{
  "nbformat": 4,
  "nbformat_minor": 0,
  "metadata": {
    "colab": {
      "name": "Tutorial 3ipynb",
      "provenance": [],
      "authorship_tag": "ABX9TyNC8g2Hxv0hw4tJAhooFf+o",
      "include_colab_link": true
    },
    "kernelspec": {
      "name": "python3",
      "display_name": "Python 3"
    }
  },
  "cells": [
    {
      "cell_type": "markdown",
      "metadata": {
        "id": "view-in-github",
        "colab_type": "text"
      },
      "source": [
        "<a href=\"https://colab.research.google.com/github/Zahra2351373/Image-Processing-Tutorials/blob/Master/Tutorial_3ipynb.ipynb\" target=\"_parent\"><img src=\"https://colab.research.google.com/assets/colab-badge.svg\" alt=\"Open In Colab\"/></a>"
      ]
    },
    {
      "cell_type": "code",
      "metadata": {
        "id": "nspb2CUkbiFF"
      },
      "source": [
        "import matplotlib.pyplot as plt\n",
        "import numpy as np\n",
        "import cv2\n",
        "from google.colab.patches import cv2_imshow\n",
        "import os\n",
        "print(cv2.__version__, cv2.__spec__)\n",
        "#print(cv2.getBuildInformation())"
      ],
      "execution_count": null,
      "outputs": []
    },
    {
      "cell_type": "code",
      "metadata": {
        "id": "cFJ4or66botI"
      },
      "source": [
        "from google.colab import drive\n",
        "drive.mount('/content/drive') "
      ],
      "execution_count": null,
      "outputs": []
    },
    {
      "cell_type": "code",
      "metadata": {
        "id": "K5XE0mKRbs-9"
      },
      "source": [
        "# After executing the cell above, Drive\n",
        "# files will be present in \"/content/drive/My Drive\".\n",
        "#Second change your current folder to point working folder My Drive\n",
        "os.chdir(\"/content/drive/My Drive/\")\n",
        "os.listdir() "
      ],
      "execution_count": null,
      "outputs": []
    },
    {
      "cell_type": "code",
      "metadata": {
        "id": "1DiUbTD-b1fc"
      },
      "source": [
        "I = cv2.imread('./images/cat.png')\n",
        "I = cv2.cvtColor(I, cv2.COLOR_BGR2RGB)\n",
        "fig = plt.figure()\n",
        "plt.imshow(I), plt.title('Original image'), plt.axis('off')\n",
        "plt.tight_layout()\n",
        "plt.show() "
      ],
      "execution_count": null,
      "outputs": []
    },
    {
      "cell_type": "code",
      "metadata": {
        "id": "BqslaXW4b36a"
      },
      "source": [
        "#https://homepages.inf.ed.ac.uk/rbf/HIPR2/unsharp.htm\n",
        "k = 0.6 #Reasonable values for k vary between 0.2 and 0.7\n",
        "I_blurred = cv2.GaussianBlur(I, (11,11), 10)\n",
        "J = cv2.addWeighted(I, 1.0 + k, I_blurred, -k, 0) # J = I + k*(I - I_blurred)\n",
        "plt.figure('Unsharp filtering')\n",
        "plt.subplot(121),plt.imshow(I),\n",
        "plt.axis('off'), plt.title('Original Image', size=14)\n",
        "plt.subplot(122),plt.imshow(J),\n",
        "plt.axis('off'), plt.title('Sharpened Image', size=14)\n",
        "plt.show()"
      ],
      "execution_count": null,
      "outputs": []
    },
    {
      "cell_type": "code",
      "metadata": {
        "id": "fLil3BF3b65S"
      },
      "source": [
        "G = I - I_blurred\n",
        "plt.figure('Unsharp masking')\n",
        "plt.imshow(G), plt.axis('off')\n",
        "plt.show()"
      ],
      "execution_count": null,
      "outputs": []
    },
    {
      "cell_type": "code",
      "metadata": {
        "id": "tnpxVaSBb-Sx"
      },
      "source": [
        "I = cv2.imread('./images/lenacolor512.jpg')\n",
        "I = cv2.cvtColor(I, cv2.COLOR_BGR2RGB)\n",
        "gaussianBlurKernel = np.array(([[1, 2, 1], [2, 4, 2], [1, 2, 1]]), np.float32)/9\n",
        "sharpenKernel = np.array(([[0, -1, 0], [-1, 9, -1], [0, -1, 0]]), np.float32)/9\n",
        "meanBlurKernel = np.ones((3, 3), np.float32)/9\n",
        "gaussianBlur = cv2.filter2D(I, -1, gaussianBlurKernel)\n",
        "meanBlur = cv2.filter2D(I, -1, kernel=meanBlurKernel)\n",
        "sharpen = cv2.filter2D(I, -1, kernel=sharpenKernel)\n",
        "horizontalStack = cv2.hconcat([I, gaussianBlur, meanBlur, sharpen])\n",
        "plt.figure('Spatial filtering')\n",
        "plt.imshow(horizontalStack), plt.axis('off')\n",
        "plt.show()"
      ],
      "execution_count": null,
      "outputs": []
    },
    {
      "cell_type": "code",
      "metadata": {
        "id": "SmW-zopdcH2E"
      },
      "source": [
        "I = cv2.imread('./images/fruits.png')\n",
        "I = cv2.cvtColor(I, cv2.COLOR_BGR2RGB)\n",
        "LPKernel = np.ones((3, 3), np.float32)/9\n",
        "HPKernel = np.array(([[0, -1, 0], [-1, 5, -1], [0, -1, 0]]), np.float32)\n",
        "HEKernel = np.array(([[1, 1, 1], [0, 0, 0], [-1, -1, -1]]), np.float32)\n",
        "LPfilter = cv2.filter2D(I, -1, LPKernel)\n",
        "HPfilter = cv2.filter2D(I, -1, HPKernel)\n",
        "HEfilter = cv2.filter2D(I, -1, HEKernel)\n",
        "Results = cv2.hconcat([I, LPfilter, HPfilter, HEfilter])\n",
        "plt.figure('Image Kernels')\n",
        "plt.imshow(Results), plt.axis('off')\n",
        "plt.show()"
      ],
      "execution_count": null,
      "outputs": []
    },
    {
      "cell_type": "code",
      "metadata": {
        "id": "AyJC1i90cL9f"
      },
      "source": [
        "I = cv2.imread('./images/cameraman.png')\n",
        "#I = cv2.cvtColor(I, cv2.COLOR_BGR2RGB)\n",
        "K1 = np.array(([[0, 1, 0], [0, 0, 0], [0, -1, 0]]), np.float32)\n",
        "K2 = np.array(([[1, 0, 0], [0, 0, 0], [0, 0, -1]]), np.float32)\n",
        "K3 = np.array(([[0, 0, 0], [1, 0, -1], [0, 0, 0]]), np.float32)\n",
        "K4 = np.array(([[0, 1, -1], [0, 0, 0], [1, 0, 0]]), np.float32)\n",
        "K1filter = cv2.filter2D(I, -1, K1)\n",
        "K2filter = cv2.filter2D(I, -1, K2)\n",
        "K3filter = cv2.filter2D(I, -1, K3)\n",
        "K4filter = cv2.filter2D(I, -1, K4)\n",
        "Emboss = cv2.hconcat([K1filter, K2filter, K3filter, K4filter])\n",
        "plt.figure('Emboss Filters')\n",
        "plt.imshow(Emboss), plt.axis('off')\n",
        "plt.show()"
      ],
      "execution_count": null,
      "outputs": []
    },
    {
      "cell_type": "code",
      "metadata": {
        "id": "wj13hDZ9cP4W"
      },
      "source": [
        "f = np.array([[ 1, 5, 0], [ 7, 2, 9], [ 2, 3, 4]], dtype=np.uint8)\n",
        "w = np.array([[1, 2], [3, 4]], dtype=np.uint8)\n",
        "#Correlation\n",
        "print(\"Correlation:\")\n",
        "print(cv2.filter2D(f, -1, w))\n",
        "#flip the kernel around both axes\n",
        "print(\"Convolution using cv2filter2D with flip around both axes:\")\n",
        "print(cv2.filter2D(f, -1, cv2.flip(w, -1), borderType=cv2.BORDER_CONSTANT))\n",
        "#Another way of computing convolution\n",
        "from scipy.signal import convolve2d\n",
        "print(\"Convolution using convolve2d:\")\n",
        "print(convolve2d(f, w, mode=\"same\"))"
      ],
      "execution_count": null,
      "outputs": []
    },
    {
      "cell_type": "code",
      "metadata": {
        "id": "KriLZ2VPcWei"
      },
      "source": [
        "sigma = 1\n",
        "I = cv2.GaussianBlur(I,(3,3),sigma)\n",
        "fig = plt.figure()\n",
        "plt.imshow(I), plt.title('blur image'), plt.axis('off')\n",
        "plt.tight_layout()\n",
        "plt.show() "
      ],
      "execution_count": null,
      "outputs": []
    },
    {
      "cell_type": "code",
      "metadata": {
        "id": "Hd1zgaR3dBIw"
      },
      "source": [
        "low_sigma = cv2.GaussianBlur(I,(3,3),0)\n",
        "high_sigma = cv2.GaussianBlur(I,(5,5),0)\n",
        "result = low_sigma - high_sigma\n",
        "fig = plt.figure()\n",
        "plt.imshow(low_sigma ), plt.axis('off')\n",
        "plt.tight_layout()\n",
        "plt.show()\n",
        "fig = plt.figure()\n",
        "plt.imshow(high_sigma), plt.axis('off')\n",
        "plt.tight_layout()\n",
        "plt.show()\n",
        "fig = plt.figure()\n",
        "plt.imshow(result), plt.axis('off')\n",
        "plt.tight_layout()\n",
        "plt.show()"
      ],
      "execution_count": null,
      "outputs": []
    }
  ]
}