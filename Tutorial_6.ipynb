{
  "nbformat": 4,
  "nbformat_minor": 0,
  "metadata": {
    "colab": {
      "name": "Tutorial_6.ipynb",
      "provenance": [],
      "authorship_tag": "ABX9TyMoO68Vv85SmP348LTBhZJO",
      "include_colab_link": true
    },
    "kernelspec": {
      "name": "python3",
      "display_name": "Python 3"
    },
    "language_info": {
      "name": "python"
    }
  },
  "cells": [
    {
      "cell_type": "markdown",
      "metadata": {
        "id": "view-in-github",
        "colab_type": "text"
      },
      "source": [
        "<a href=\"https://colab.research.google.com/github/Zahra2351373/Image-Processing-Tutorials/blob/Master/Tutorial_6.ipynb\" target=\"_parent\"><img src=\"https://colab.research.google.com/assets/colab-badge.svg\" alt=\"Open In Colab\"/></a>"
      ]
    },
    {
      "cell_type": "code",
      "metadata": {
        "colab": {
          "base_uri": "https://localhost:8080/"
        },
        "id": "-pqAtuoiQ2dx",
        "outputId": "16ab0af4-cd08-4408-9de7-7e32c03b0675"
      },
      "source": [
        "import matplotlib.pyplot as plt\n",
        "import numpy as np\n",
        "from skimage.util import random_noise\n",
        "import cv2\n",
        "from google.colab.patches import cv2_imshow\n",
        "import os\n",
        "print(cv2.__version__, cv2.__spec__)\n",
        "#print(cv2.getBuildInformation())"
      ],
      "execution_count": 1,
      "outputs": [
        {
          "output_type": "stream",
          "text": [
            "4.1.2 ModuleSpec(name='cv2.cv2', loader=<_frozen_importlib_external.ExtensionFileLoader object at 0x7facc9411390>, origin='/usr/local/lib/python3.7/dist-packages/cv2/cv2.cpython-37m-x86_64-linux-gnu.so')\n"
          ],
          "name": "stdout"
        }
      ]
    },
    {
      "cell_type": "code",
      "metadata": {
        "colab": {
          "base_uri": "https://localhost:8080/"
        },
        "id": "Zbyo9aBIRQjL",
        "outputId": "f4eab386-6137-4328-b1bc-70ae9333fd7b"
      },
      "source": [
        "from google.colab import drive\n",
        "drive.mount('/content/drive')"
      ],
      "execution_count": 2,
      "outputs": [
        {
          "output_type": "stream",
          "text": [
            "Mounted at /content/drive\n"
          ],
          "name": "stdout"
        }
      ]
    },
    {
      "cell_type": "code",
      "metadata": {
        "colab": {
          "base_uri": "https://localhost:8080/"
        },
        "id": "ZhC5blQLRUFR",
        "outputId": "98da87d4-bf36-4d8e-c858-5ff82a98c5b2"
      },
      "source": [
        "# After executing the cell above, Drive\n",
        "# files will be present in \"/content/drive/My Drive\".\n",
        "#Second change your current folder to point working folder My Drive\n",
        "os.chdir(\"/content/drive/My Drive/\")\n",
        "os.listdir()"
      ],
      "execution_count": 3,
      "outputs": [
        {
          "output_type": "execute_result",
          "data": {
            "text/plain": [
              "['tr_im.nii.gz',\n",
              " 'tr_mask.nii.gz',\n",
              " 'val_im.nii.gz',\n",
              " 'Colab Notebooks',\n",
              " 'test-volume',\n",
              " 'train-labels',\n",
              " 'train-volume',\n",
              " 'Dataset',\n",
              " 'test-volume.zip',\n",
              " 'train-labels.zip',\n",
              " 'train-volume.zip',\n",
              " 'images']"
            ]
          },
          "metadata": {
            "tags": []
          },
          "execution_count": 3
        }
      ]
    },
    {
      "cell_type": "code",
      "metadata": {
        "id": "Ffb08Qi6Rq5J"
      },
      "source": [
        "I = cv2.imread('./images/lenacolor256.png',0)\n",
        "#I = cv2.imread('./images/mri.png',0)"
      ],
      "execution_count": 4,
      "outputs": []
    },
    {
      "cell_type": "code",
      "metadata": {
        "id": "K1sEgjreRua7"
      },
      "source": [
        "#noise = np.random.normal(0,1,I.size)\n",
        "#noise = noise.reshape(I.shape[0],I.shape[1]).astype('uint8')\n",
        "#gauss = gauss.reshape(I.shape[0],I.shape[1],I.shape[2]).astype('uint8')\n",
        "# Add the Gaussian noise to the image\n",
        "#noisy = cv2.add(I,noise)\n",
        "noisy = random_noise(I, mode='gaussian',var=0.01)"
      ],
      "execution_count": 5,
      "outputs": []
    },
    {
      "cell_type": "code",
      "metadata": {
        "id": "4wiXIyFRRyHm"
      },
      "source": [
        "output = cv2.boxFilter(noisy,-1,(3,3))\n",
        "# or use cv2.blur() as shown below\n",
        "# output = cv2.blur(noisy,(3,3))\n",
        "images = [I, noisy, output]\n",
        "image_name = ['Input', 'Noisy', 'Output']\n",
        "for i in range(3):\n",
        "  plt.subplot(1,3,i+1),plt.imshow(images[i],cmap = 'gray')\n",
        "  plt.title(image_name[i]), plt.axis('off')\n",
        "  plt.tight_layout(.1)\n",
        "plt.show()"
      ],
      "execution_count": null,
      "outputs": []
    },
    {
      "cell_type": "code",
      "metadata": {
        "id": "Lq4TROsqR6ox"
      },
      "source": [
        "#Input: 8-bit or floating-point, 1-channel or 3-channel image.\n",
        "noisy8 = np.asarray(255*noisy, dtype = 'uint8')\n",
        "output = cv2.bilateralFilter(noisy8,9,75,75)\n",
        "images = [I, noisy, output]\n",
        "image_name = ['Input', 'Noisy', 'Output']\n",
        "for i in range(3):\n",
        "  plt.subplot(1,3,i+1),plt.imshow(images[i],cmap = 'gray')\n",
        "  plt.title(image_name[i]), plt.axis('off')\n",
        "  plt.tight_layout(.1)\n",
        "plt.show()"
      ],
      "execution_count": null,
      "outputs": []
    },
    {
      "cell_type": "code",
      "metadata": {
        "id": "bDNCDdJAVIKb"
      },
      "source": [
        "noisy_img=cv2.cvtColor(noisy8, cv2.COLOR_GRAY2BGR)\n",
        "output = cv2.fastNlMeansDenoisingColored(noisy_img,None,10,10,7,21)\n",
        "images = [I, noisy, output]\n",
        "image_name = ['Input', 'Noisy', 'Output']\n",
        "for i in range(3):\n",
        "  plt.subplot(1,3,i+1),plt.imshow(images[i],cmap = 'gray')\n",
        "  plt.title(image_name[i]), plt.axis('off')\n",
        "  plt.tight_layout(.1)\n",
        "plt.show()"
      ],
      "execution_count": null,
      "outputs": []
    },
    {
      "cell_type": "code",
      "metadata": {
        "id": "OoH_KhLtVQKi"
      },
      "source": [
        "rows, cols = I.shape\n",
        "ksize = 3\n",
        "padsize = int((ksize-1)/2)\n",
        "pad_img = cv2.copyMakeBorder(noisy, *[padsize]*4, cv2.BORDER_DEFAULT)\n",
        "J = np.zeros_like(I)\n",
        "for r in range(rows):\n",
        "  for c in range(cols):\n",
        "    W = pad_img[r:r+ksize, c:c+ksize]*255\n",
        "    J[r, c] = np.prod(W)**(1/(ksize**2))\n",
        "output = np.uint8(J)\n",
        "# output = geometric_mean(noisy, disk(3))\n",
        "#Other simple form\n",
        "#output = np.uint8(np.exp(cv2.boxFilter(np.log(noisy),-1, (3,3))))\n",
        "images = [I, noisy, output]\n",
        "image_name = ['Input', 'Noisy', 'Output']\n",
        "for i in range(3):\n",
        "  plt.subplot(1,3,i+1),plt.imshow(images[i],cmap = 'gray')\n",
        "  plt.title(image_name[i]), plt.axis('off')\n",
        "  plt.tight_layout(.1)\n",
        "plt.show()"
      ],
      "execution_count": null,
      "outputs": []
    },
    {
      "cell_type": "code",
      "metadata": {
        "id": "m4vk6qDqgSuV"
      },
      "source": [
        "rows, cols = I.shape\n",
        "ksize = 3\n",
        "D = 4 #range from 0 to (ksize*2 − 1)/2.\n",
        "padsize = int((ksize-1)/2)\n",
        "pad_img = cv2.copyMakeBorder(noisy, *[padsize]*4, cv2.BORDER_DEFAULT)\n",
        "J = np.zeros_like(I)\n",
        "for r in range(rows):\n",
        "  for c in range(cols):\n",
        "    W = pad_img[r:r+ksize, c:c+ksize]\n",
        "    J[r, c] = np.sum(W)/(ksize**2 - 2*D)\n",
        "output = np.uint8(J)\n",
        "images = [I, noisy, output]\n",
        "image_name = ['Input', 'Noisy', 'Output']\n",
        "for i in range(3):\n",
        "  plt.subplot(1,3,i+1),plt.imshow(images[i],cmap = 'gray')\n",
        "  plt.title(image_name[i]), plt.axis('off')\n",
        "  plt.tight_layout(.1)\n",
        "plt.show()"
      ],
      "execution_count": null,
      "outputs": []
    },
    {
      "cell_type": "code",
      "metadata": {
        "id": "qTk0kduAhKn4"
      },
      "source": [
        "noisy = random_noise(I, mode='s&p',amount=0.05)\n",
        "# The above function returns a floating-point image on the range [0, 1],\n",
        "# thus we changed it to 'uint8' and from [0,255]\n",
        "noisy = np.array(255*noisy, dtype = 'uint8')"
      ],
      "execution_count": 11,
      "outputs": []
    },
    {
      "cell_type": "code",
      "metadata": {
        "id": "kVgsuUM1iB6o"
      },
      "source": [
        "output = cv2.medianBlur(noisy,3)\n",
        "images = [I, noisy, output]\n",
        "image_name = ['Input', 'Noisy', 'Output']\n",
        "for i in range(3):\n",
        "  plt.subplot(1,3,i+1),plt.imshow(images[i],cmap = 'gray')\n",
        "  plt.title(image_name[i]), plt.axis('off')\n",
        "  plt.tight_layout(.1)\n",
        "plt.show()"
      ],
      "execution_count": null,
      "outputs": []
    },
    {
      "cell_type": "code",
      "metadata": {
        "id": "uJKZyaVgiHEG"
      },
      "source": [
        "epsilon = np.finfo(float).eps\n",
        "rows, cols = I.shape\n",
        "ksize = 3\n",
        "padsize = int((ksize-1)/2)\n",
        "pad_img = cv2.copyMakeBorder(np.double(noisy), *[padsize]*4, cv2.BORDER_DEFAULT)\n",
        "J = np.zeros_like(I)\n",
        "for r in range(rows):\n",
        "  for c in range(cols):\n",
        "    W = pad_img[r:r+ksize, c:c+ksize]\n",
        "    J[r, c] = (ksize**2)/np.sum(1/(W + epsilon))\n",
        "output = np.uint8(J)\n",
        "images = [I, noisy, output]\n",
        "image_name = ['Input', 'Noisy', 'Output']\n",
        "for i in range(3):\n",
        "  plt.subplot(1,3,i+1),plt.imshow(images[i],cmap = 'gray')\n",
        "  plt.title(image_name[i]), plt.axis('off')\n",
        "  plt.tight_layout(.1)\n",
        "plt.show()"
      ],
      "execution_count": null,
      "outputs": []
    },
    {
      "cell_type": "code",
      "metadata": {
        "id": "a7_NFLRoiXgH"
      },
      "source": [
        "rows, cols = I.shape\n",
        "ksize = 3\n",
        "Q = -0.5\n",
        "padsize = int((ksize-1)/2)\n",
        "pad_img = cv2.copyMakeBorder(np.double(noisy), *[padsize]*4, cv2.BORDER_DEFAULT)\n",
        "J = np.zeros_like(I)\n",
        "for r in range(rows):\n",
        "  for c in range(cols):\n",
        "    W = pad_img[r:r+ksize, c:c+ksize]\n",
        "    J[r, c] = np.sum(W**(Q+1))/np.sum((W + epsilon)**Q)\n",
        "output = np.uint8(J)\n",
        "images = [I, noisy, output]\n",
        "image_name = ['Input', 'Noisy', 'Output']\n",
        "for i in range(3):\n",
        "  plt.subplot(1,3,i+1),plt.imshow(images[i],cmap = 'gray')\n",
        "  plt.title(image_name[i]), plt.axis('off')\n",
        "  plt.tight_layout(.1)\n",
        "plt.show()"
      ],
      "execution_count": null,
      "outputs": []
    },
    {
      "cell_type": "code",
      "metadata": {
        "id": "SzsC6fbOjOFp"
      },
      "source": [
        "rows, cols = I.shape\n",
        "ksize = 3\n",
        "padsize = int((ksize-1)/2)\n",
        "pad_img = cv2.copyMakeBorder(np.double(noisy), *[padsize]*4, cv2.BORDER_DEFAULT)\n",
        "J = np.zeros_like(I)\n",
        "for r in range(rows):\n",
        "  for c in range(cols):\n",
        "    W = pad_img[r:r+ksize, c:c+ksize]\n",
        "    J[r, c] = np.min(W)\n",
        "output = np.uint8(J)\n",
        "images = [I, noisy, output]\n",
        "image_name = ['Input', 'Noisy', 'Min Output']\n",
        "for i in range(3):\n",
        "  plt.subplot(1,3,i+1),plt.imshow(images[i],cmap = 'gray')\n",
        "  plt.title(image_name[i]), plt.axis('off')\n",
        "  plt.tight_layout(.1)\n",
        "plt.show()"
      ],
      "execution_count": null,
      "outputs": []
    },
    {
      "cell_type": "code",
      "metadata": {
        "id": "sek94QVejYH2"
      },
      "source": [
        "rows, cols = I.shape\n",
        "ksize = 3\n",
        "padsize = int((ksize-1)/2)\n",
        "pad_img = cv2.copyMakeBorder(np.double(noisy), *[padsize]*4, cv2.BORDER_DEFAULT)\n",
        "J = np.zeros_like(I)\n",
        "for r in range(rows):\n",
        "  for c in range(cols):\n",
        "    W = pad_img[r:r+ksize, c:c+ksize]\n",
        "    J[r, c] = np.max(W)\n",
        "output = np.uint8(J)\n",
        "images = [I, noisy, output]\n",
        "image_name = ['Input', 'Noisy', 'Max Output']\n",
        "for i in range(3):\n",
        "  plt.subplot(1,3,i+1),plt.imshow(images[i],cmap = 'gray')\n",
        "  plt.title(image_name[i]), plt.axis('off')\n",
        "  plt.tight_layout(.1)\n",
        "plt.show()"
      ],
      "execution_count": null,
      "outputs": []
    },
    {
      "cell_type": "code",
      "metadata": {
        "id": "M76FEtyhjhQe"
      },
      "source": [
        "rows, cols = I.shape\n",
        "ksize = 3\n",
        "padsize = int((ksize-1)/2)\n",
        "pad_img = cv2.copyMakeBorder(np.double(noisy), *[padsize]*4, cv2.BORDER_DEFAULT)\n",
        "J = np.zeros_like(I)\n",
        "for r in range(rows):\n",
        "  for c in range(cols):\n",
        "    W = pad_img[r:r+ksize, c:c+ksize]\n",
        "    J[r, c] = (np.min(W)+np.max(W))/2\n",
        "output = np.uint8(J)\n",
        "images = [I, noisy, output]\n",
        "image_name = ['Input', 'Noisy', 'Midpoint Output']\n",
        "for i in range(3):\n",
        "  plt.subplot(1,3,i+1),plt.imshow(images[i],cmap = 'gray')\n",
        "  plt.title(image_name[i]), plt.axis('off')\n",
        "  plt.tight_layout(.1)\n",
        "plt.show()"
      ],
      "execution_count": null,
      "outputs": []
    },
    {
      "cell_type": "code",
      "metadata": {
        "id": "KB8MwVs-jqbS"
      },
      "source": [
        "from PIL import Image, ImageFilter\n",
        "I = Image.open(\"./images/fruits.png\")\n",
        "noisy = random_noise(np.asarray(I), mode='s&p',amount=0.05)\n",
        "noisy = Image.fromarray(np.asarray(255*noisy, dtype = 'uint8'))\n",
        "output = noisy.filter(ImageFilter.ModeFilter(size = 3))\n",
        "images = [I, noisy, output]\n",
        "image_name = ['Input', 'Noisy', 'Mode Output']\n",
        "for i in range(3):\n",
        "  plt.subplot(1,3,i+1),plt.imshow(images[i],cmap = 'gray')\n",
        "  plt.title(image_name[i]), plt.axis('off')\n",
        "  plt.tight_layout(.1)\n",
        "plt.show()"
      ],
      "execution_count": null,
      "outputs": []
    },
    {
      "cell_type": "code",
      "metadata": {
        "id": "EYLovJaqjuXM"
      },
      "source": [
        "output = noisy.filter(ImageFilter.MaxFilter(size = 3))\n",
        "#output = noisy.filter(ImageFilter.MinFilter(size = 3))\n",
        "images = [I, noisy, output]\n",
        "image_name = ['Input', 'Noisy', 'Max Output']\n",
        "for i in range(3):\n",
        "  plt.subplot(1,3,i+1),plt.imshow(images[i],cmap = 'gray')\n",
        "  plt.title(image_name[i]), plt.axis('off')\n",
        "  plt.tight_layout(.1)\n",
        "plt.show()"
      ],
      "execution_count": null,
      "outputs": []
    },
    {
      "cell_type": "code",
      "metadata": {
        "id": "hj9YW_IEjxk1"
      },
      "source": [
        "I = Image.open(\"./images/christina.jpg\")\n",
        "noisy = random_noise(np.asarray(I), mode='s&p',amount=0.05)\n",
        "noisy = Image.fromarray(np.asarray(255*noisy, dtype = 'uint8'))\n",
        "output = noisy.filter(ImageFilter.RankFilter(size = 3, rank = 2))\n",
        "images = [I, noisy, output]\n",
        "image_name = ['Input', 'Noisy', 'Rank Output']\n",
        "for i in range(3):\n",
        "  plt.subplot(1,3,i+1),plt.imshow(images[i],cmap = 'gray')\n",
        "  plt.title(image_name[i]), plt.axis('off')\n",
        "  plt.tight_layout(.1)\n",
        "plt.show()"
      ],
      "execution_count": null,
      "outputs": []
    }
  ]
}